{
 "cells": [
  {
   "cell_type": "code",
   "execution_count": 13,
   "metadata": {},
   "outputs": [],
   "source": [
    "from genetracks import Figure, Track, Alignment"
   ]
  },
  {
   "cell_type": "code",
   "execution_count": 14,
   "metadata": {
    "scrolled": false
   },
   "outputs": [
    {
     "data": {
      "image/svg+xml": [
       "<?xml version=\"1.0\" encoding=\"UTF-8\"?>\n",
       "<svg xmlns=\"http://www.w3.org/2000/svg\" xmlns:xlink=\"http://www.w3.org/1999/xlink\"\n",
       "     width=\"700\" height=\"100.0\" viewBox=\"0 -50 350 50\">\n",
       "<defs>\n",
       "</defs>\n",
       "<rect x=\"50\" y=\"-10\" width=\"250\" height=\"10\" fill=\"lightgrey\" />\n",
       "<path d=\"M300,0 L305,-5 L300,-10\" fill=\"lightgrey\" />\n",
       "<rect x=\"50\" y=\"-10\" width=\"50\" height=\"10\" fill=\"purple\" />\n",
       "<rect x=\"100\" y=\"-90\" width=\"250\" height=\"50\" fill=\"lightgrey\" />\n",
       "<path d=\"M100,-40 L95,-45 L100,-50\" fill=\"lightgrey\" />\n",
       "<rect x=\"150\" y=\"-90\" width=\"50\" height=\"50\" fill=\"orange\" />\n",
       "<path d=\"M50,-10 L200,-40\" stroke=\"black\" />\n",
       "<path d=\"M50,0 L50,-10\" stroke=\"black\" />\n",
       "<path d=\"M200,-40 L200,-50\" stroke=\"black\" />\n",
       "<path d=\"M100,-10 L150,-40\" stroke=\"black\" />\n",
       "<path d=\"M100,0 L100,-10\" stroke=\"black\" />\n",
       "<path d=\"M150,-40 L150,-50\" stroke=\"black\" />\n",
       "</svg>"
      ],
      "text/plain": [
       "<drawSvg.drawing.Drawing at 0x7f90bc0b9be0>"
      ]
     },
     "execution_count": 14,
     "metadata": {},
     "output_type": "execute_result"
    }
   ],
   "source": [
    "figure = Figure(size=700, height=50)\n",
    "t1 = Track(50, 300, direction='f', regions=[(50, 100, 'purple')])\n",
    "t2 = Track(100, 350, direction='r', regions=[(150, 200, 'orange')])\n",
    "aln = Alignment(t1, t2, [(50, 200), (100, 150)])\n",
    "figure.draw(t1, t2, alignments=[aln,])"
   ]
  },
  {
   "cell_type": "code",
   "execution_count": 15,
   "metadata": {},
   "outputs": [
    {
     "data": {
      "image/svg+xml": [
       "<?xml version=\"1.0\" encoding=\"UTF-8\"?>\n",
       "<svg xmlns=\"http://www.w3.org/2000/svg\" xmlns:xlink=\"http://www.w3.org/1999/xlink\"\n",
       "     width=\"700\" height=\"60.0\" viewBox=\"0 -30 350 30\">\n",
       "<defs>\n",
       "</defs>\n",
       "<rect x=\"50\" y=\"-10\" width=\"250\" height=\"10\" fill=\"lightgrey\" />\n",
       "<path d=\"M300,0 L305,-5 L300,-10\" fill=\"lightgrey\" />\n",
       "<rect x=\"100\" y=\"-50\" width=\"250\" height=\"30\" fill=\"lightgrey\" />\n",
       "<path d=\"M100,-20 L95,-25 L100,-30\" fill=\"lightgrey\" />\n",
       "</svg>"
      ],
      "text/plain": [
       "<drawSvg.drawing.Drawing at 0x7f90bc0b9518>"
      ]
     },
     "execution_count": 15,
     "metadata": {},
     "output_type": "execute_result"
    }
   ],
   "source": [
    "figure = Figure(size=700, height=30)\n",
    "t1 = Track(50, 300, direction='f')\n",
    "t2 = Track(100, 350, direction='r')\n",
    "figure.draw(t1, t2)"
   ]
  }
 ],
 "metadata": {
  "kernelspec": {
   "display_name": "Python 3",
   "language": "python",
   "name": "python3"
  },
  "language_info": {
   "codemirror_mode": {
    "name": "ipython",
    "version": 3
   },
   "file_extension": ".py",
   "mimetype": "text/x-python",
   "name": "python",
   "nbconvert_exporter": "python",
   "pygments_lexer": "ipython3",
   "version": "3.6.6"
  }
 },
 "nbformat": 4,
 "nbformat_minor": 2
}
