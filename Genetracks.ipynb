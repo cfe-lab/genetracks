{
 "cells": [
  {
   "cell_type": "code",
   "execution_count": 4,
   "metadata": {},
   "outputs": [],
   "source": [
    "from genetracks import Figure"
   ]
  },
  {
   "cell_type": "code",
   "execution_count": 5,
   "metadata": {},
   "outputs": [
    {
     "data": {
      "image/svg+xml": [
       "<?xml version=\"1.0\" encoding=\"UTF-8\"?>\n",
       "<svg xmlns=\"http://www.w3.org/2000/svg\" xmlns:xlink=\"http://www.w3.org/1999/xlink\"\n",
       "     width=\"800\" height=\"80.0\" viewBox=\"0 -100 1000 100\">\n",
       "<defs>\n",
       "</defs>\n",
       "<rect x=\"300\" y=\"-10\" width=\"500\" height=\"10\" fill=\"lightgrey\" />\n",
       "<rect x=\"300\" y=\"-10\" width=\"100\" height=\"10\" fill=\"orange\" />\n",
       "<rect x=\"0\" y=\"-100\" width=\"1000\" height=\"10\" fill=\"lightgrey\" />\n",
       "<path d=\"M300,0 L300,-10\" stroke=\"black\" />\n",
       "<path d=\"M200,-90 L200,-100\" stroke=\"black\" />\n",
       "<path d=\"M600,-90 L600,-100\" stroke=\"red\" />\n",
       "<path d=\"M650,0 L650,-10\" stroke=\"red\" />\n",
       "<path d=\"M660.5,-90 L660.5,-100\" stroke=\"red\" />\n",
       "<path d=\"M300,-10 L200,-90\" stroke=\"black\" />\n",
       "<path d=\"M400,0 L400,-10\" stroke=\"black\" />\n",
       "<path d=\"M100,-90 L100,-100\" stroke=\"black\" />\n",
       "<path d=\"M600,-90 L600,-100\" stroke=\"red\" />\n",
       "<path d=\"M650,0 L650,-10\" stroke=\"red\" />\n",
       "<path d=\"M660.5,-90 L660.5,-100\" stroke=\"red\" />\n",
       "<path d=\"M400,-10 L100,-90\" stroke=\"black\" />\n",
       "<path d=\"M800,0 L800,-10\" stroke=\"black\" />\n",
       "<path d=\"M1000,-90 L1000,-100\" stroke=\"black\" />\n",
       "<path d=\"M600,-90 L600,-100\" stroke=\"red\" />\n",
       "<path d=\"M650,0 L650,-10\" stroke=\"red\" />\n",
       "<path d=\"M660.5,-90 L660.5,-100\" stroke=\"red\" />\n",
       "<path d=\"M800,-10 L1000,-90\" stroke=\"black\" />\n",
       "<text x=\"230\" y=\"-2\" font-size=\"10\" text-anchor=\"right\">sequence 2:</text>\n",
       "</svg>"
      ],
      "text/plain": [
       "<drawSvg.drawing.Drawing at 0x7f66ba39e390>"
      ]
     },
     "execution_count": 5,
     "metadata": {},
     "output_type": "execute_result"
    }
   ],
   "source": [
    "figure = Figure(size=800)\n",
    "figure.draw_pair((300, 800), (0, 1000), alignments=[(0, 200), (100, 100), (500, 1000)])"
   ]
  }
 ],
 "metadata": {
  "kernelspec": {
   "display_name": "Python 3",
   "language": "python",
   "name": "python3"
  },
  "language_info": {
   "codemirror_mode": {
    "name": "ipython",
    "version": 3
   },
   "file_extension": ".py",
   "mimetype": "text/x-python",
   "name": "python",
   "nbconvert_exporter": "python",
   "pygments_lexer": "ipython3",
   "version": "3.6.6"
  }
 },
 "nbformat": 4,
 "nbformat_minor": 2
}
