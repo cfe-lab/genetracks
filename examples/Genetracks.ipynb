{
 "cells": [
  {
   "cell_type": "code",
   "execution_count": 1,
   "metadata": {},
   "outputs": [],
   "source": [
    "from genetracks import Figure, Track, Alignment"
   ]
  },
  {
   "cell_type": "code",
   "execution_count": 2,
   "metadata": {
    "scrolled": false
   },
   "outputs": [
    {
     "data": {
      "image/svg+xml": [
       "<?xml version=\"1.0\" encoding=\"UTF-8\"?>\n",
       "<svg xmlns=\"http://www.w3.org/2000/svg\" xmlns:xlink=\"http://www.w3.org/1999/xlink\"\n",
       "     width=\"700\" height=\"98.59154929577466\" viewBox=\"0 -50 355 50\">\n",
       "<defs>\n",
       "</defs>\n",
       "<rect x=\"50\" y=\"-10\" width=\"250\" height=\"10\" fill=\"lightgrey\" />\n",
       "<path d=\"M300,0 L305,-5 L300,-10\" fill=\"lightgrey\" />\n",
       "<rect x=\"50\" y=\"-10\" width=\"50\" height=\"10\" fill=\"purple\" />\n",
       "<rect x=\"100\" y=\"-90\" width=\"250\" height=\"50\" fill=\"lightgrey\" />\n",
       "<path d=\"M100,-40 L95,-45 L100,-50\" fill=\"lightgrey\" />\n",
       "<rect x=\"150\" y=\"-90\" width=\"50\" height=\"50\" fill=\"orange\" />\n",
       "<path d=\"M50,-10 L200,-40\" stroke=\"black\" />\n",
       "<path d=\"M50,0 L50,-10\" stroke=\"black\" />\n",
       "<path d=\"M200,-40 L200,-50\" stroke=\"black\" />\n",
       "<path d=\"M100,-10 L150,-40\" stroke=\"black\" />\n",
       "<path d=\"M100,0 L100,-10\" stroke=\"black\" />\n",
       "<path d=\"M150,-40 L150,-50\" stroke=\"black\" />\n",
       "</svg>"
      ],
      "text/plain": [
       "<drawSvg.drawing.Drawing at 0x7fab901a83c8>"
      ]
     },
     "execution_count": 2,
     "metadata": {},
     "output_type": "execute_result"
    }
   ],
   "source": [
    "figure = Figure(size=700, height=50)\n",
    "t1 = Track(50, 300, direction='f', regions=[(50, 100, 'purple')])\n",
    "t2 = Track(100, 350, direction='r', regions=[(150, 200, 'orange')])\n",
    "aln = Alignment(t1, t2, [(50, 200), (100, 150)])\n",
    "figure.draw(t1, t2, alignments=[aln,])"
   ]
  },
  {
   "cell_type": "code",
   "execution_count": 3,
   "metadata": {},
   "outputs": [
    {
     "data": {
      "image/svg+xml": [
       "<?xml version=\"1.0\" encoding=\"UTF-8\"?>\n",
       "<svg xmlns=\"http://www.w3.org/2000/svg\" xmlns:xlink=\"http://www.w3.org/1999/xlink\"\n",
       "     width=\"700\" height=\"59.15492957746479\" viewBox=\"0 -30 355 30\">\n",
       "<defs>\n",
       "</defs>\n",
       "<rect x=\"50\" y=\"-10\" width=\"250\" height=\"10\" fill=\"lightgrey\" />\n",
       "<path d=\"M300,0 L305,-5 L300,-10\" fill=\"lightgrey\" />\n",
       "<rect x=\"100\" y=\"-50\" width=\"250\" height=\"30\" fill=\"lightgrey\" />\n",
       "<path d=\"M100,-20 L95,-25 L100,-30\" fill=\"lightgrey\" />\n",
       "</svg>"
      ],
      "text/plain": [
       "<drawSvg.drawing.Drawing at 0x7fab9019cf28>"
      ]
     },
     "execution_count": 3,
     "metadata": {},
     "output_type": "execute_result"
    }
   ],
   "source": [
    "figure = Figure(size=700, height=30)\n",
    "t1 = Track(50, 300, direction='f')\n",
    "t2 = Track(100, 350, direction='r')\n",
    "figure.draw(t1, t2)"
   ]
  },
  {
   "cell_type": "code",
   "execution_count": 4,
   "metadata": {},
   "outputs": [
    {
     "data": {
      "image/svg+xml": [
       "<?xml version=\"1.0\" encoding=\"UTF-8\"?>\n",
       "<svg xmlns=\"http://www.w3.org/2000/svg\" xmlns:xlink=\"http://www.w3.org/1999/xlink\"\n",
       "     width=\"700\" height=\"37.83783783783784\" viewBox=\"0 -30 555 30\">\n",
       "<defs>\n",
       "</defs>\n",
       "<rect x=\"0\" y=\"-10\" width=\"250\" height=\"10\" fill=\"lightgrey\" />\n",
       "<path d=\"M250,0 L255,-5 L250,-10\" fill=\"lightgrey\" />\n",
       "<rect x=\"300\" y=\"-50\" width=\"250\" height=\"30\" fill=\"lightgrey\" />\n",
       "<path d=\"M300,-20 L295,-25 L300,-30\" fill=\"lightgrey\" />\n",
       "</svg>"
      ],
      "text/plain": [
       "<drawSvg.drawing.Drawing at 0x7fab9019cf60>"
      ]
     },
     "execution_count": 4,
     "metadata": {},
     "output_type": "execute_result"
    }
   ],
   "source": [
    "figure = Figure(size=700, height=30)\n",
    "t1 = Track(0, 250, direction='f')\n",
    "t2 = Track(300, 550, direction='r')\n",
    "figure.draw(t1, t2)"
   ]
  },
  {
   "cell_type": "code",
   "execution_count": 5,
   "metadata": {},
   "outputs": [
    {
     "data": {
      "image/svg+xml": [
       "<?xml version=\"1.0\" encoding=\"UTF-8\"?>\n",
       "<svg xmlns=\"http://www.w3.org/2000/svg\" xmlns:xlink=\"http://www.w3.org/1999/xlink\"\n",
       "     width=\"700\" height=\"59.15492957746479\" viewBox=\"0 -30 355 30\">\n",
       "<defs>\n",
       "</defs>\n",
       "<rect x=\"100\" y=\"-10\" width=\"250\" height=\"10\" fill=\"lightgrey\" />\n",
       "<path d=\"M350,0 L355,-5 L350,-10\" fill=\"lightgrey\" />\n",
       "<rect x=\"50\" y=\"-50\" width=\"250\" height=\"30\" fill=\"lightgrey\" />\n",
       "<path d=\"M50,-20 L45,-25 L50,-30\" fill=\"lightgrey\" />\n",
       "</svg>"
      ],
      "text/plain": [
       "<drawSvg.drawing.Drawing at 0x7fab9019cfd0>"
      ]
     },
     "execution_count": 5,
     "metadata": {},
     "output_type": "execute_result"
    }
   ],
   "source": [
    "figure = Figure(size=700, height=30)\n",
    "t1 = Track(100, 350, direction='f')\n",
    "t2 = Track(50, 300, direction='r')\n",
    "figure.draw(t1, t2)"
   ]
  },
  {
   "cell_type": "code",
   "execution_count": 1,
   "metadata": {},
   "outputs": [
    {
     "data": {
      "image/svg+xml": [
       "<?xml version=\"1.0\" encoding=\"UTF-8\"?>\n",
       "<svg xmlns=\"http://www.w3.org/2000/svg\" xmlns:xlink=\"http://www.w3.org/1999/xlink\"\n",
       "     width=\"400\" height=\"400.0\" viewBox=\"-0.7 -0.7 1.4 1.4\">\n",
       "<defs>\n",
       "</defs>\n",
       "<circle cx=\"0\" cy=\"0\" r=\"0.5\" stroke-width=\"0.005\" stroke=\"lightgrey\" fill-opacity=\"0.0\" />\n",
       "<path d=\"M-0.08682408883346515,-0.492403876506104 A0.5,0.5,0,0,0,-0.0954044976882724,-0.490813591723832\" stroke-width=\"0.04\" stroke=\"orange\" fill-opacity=\"0.0\" />\n",
       "<path d=\"M-0.17101007166283436,-0.4698463103929542 A0.5,0.5,0,0,0,-0.1710100716628347,0.4698463103929541\" stroke-width=\"0.04\" stroke=\"purple\" fill-opacity=\"0.0\" />\n",
       "<path d=\"M-0.1710100716628347,0.4698463103929541 A0.5,0.5,0,0,0,0.043577871373828944,0.4980973490458728\" stroke-width=\"0.04\" stroke=\"yellowgreen\" fill-opacity=\"0.0\" />\n",
       "<path d=\"M0.3830222215594889,0.3213938048432698 A0.5,0.5,0,0,0,0.4698463103929542,-0.17101007166283436\" stroke-width=\"0.04\" stroke=\"lightblue\" fill-opacity=\"0.0\" />\n",
       "</svg>"
      ],
      "text/plain": [
       "<drawSvg.drawing.Drawing at 0x7fec581920f0>"
      ]
     },
     "execution_count": 1,
     "metadata": {},
     "output_type": "execute_result"
    }
   ],
   "source": [
    "from genetracks import Plasmid, Region\n",
    "\n",
    "p = Plasmid(360, regions=[Region(100, 101, color='orange'),\n",
    "                          Region(110, 250, color='purple'),\n",
    "                          Region(250, 275, color='yellowgreen'),\n",
    "                          Region(320, 20, color='lightblue')])\n",
    "p.show()"
   ]
  }
 ],
 "metadata": {
  "kernelspec": {
   "display_name": "Python 3",
   "language": "python",
   "name": "python3"
  },
  "language_info": {
   "codemirror_mode": {
    "name": "ipython",
    "version": 3
   },
   "file_extension": ".py",
   "mimetype": "text/x-python",
   "name": "python",
   "nbconvert_exporter": "python",
   "pygments_lexer": "ipython3",
   "version": "3.6.6"
  }
 },
 "nbformat": 4,
 "nbformat_minor": 2
}
