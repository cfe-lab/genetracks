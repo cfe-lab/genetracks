{
 "cells": [
  {
   "cell_type": "code",
   "execution_count": 3,
   "metadata": {},
   "outputs": [],
   "source": [
    "from genetracks import Figure, Track, Alignment"
   ]
  },
  {
   "cell_type": "code",
   "execution_count": 11,
   "metadata": {
    "scrolled": false
   },
   "outputs": [
    {
     "data": {
      "image/svg+xml": [
       "<?xml version=\"1.0\" encoding=\"UTF-8\"?>\n",
       "<svg xmlns=\"http://www.w3.org/2000/svg\" xmlns:xlink=\"http://www.w3.org/1999/xlink\"\n",
       "     width=\"700\" height=\"75.0\" viewBox=\"0 -75 700 75\">\n",
       "<defs>\n",
       "</defs>\n",
       "<g transform=\"translate(0 0)\">\n",
       "<rect x=\"50\" y=\"-10\" width=\"250\" height=\"10\" fill=\"lightgrey\" stroke=\"lightgrey\" />\n",
       "<text x=\"175.0\" y=\"-20\" font-size=\"10.0\" text-anchor=\"middle\" transform=\"translate(0,5.0)\">Another sequence</text>\n",
       "<path d=\"M300,0 L305,-5.0 L300,-10\" fill=\"lightgrey\" stroke=\"lightgrey\" />\n",
       "<rect x=\"50\" y=\"-10\" width=\"50\" height=\"10\" fill=\"lightblue\" stroke=\"lightblue\" />\n",
       "</g>\n",
       "<g transform=\"translate(0 -30)\">\n",
       "<rect x=\"110\" y=\"-10\" width=\"300\" height=\"10\" fill=\"lightgrey\" stroke=\"lightgrey\" />\n",
       "<text x=\"260.0\" y=\"-20\" font-size=\"10.0\" text-anchor=\"middle\" transform=\"translate(0,5.0)\">Sequence 1</text>\n",
       "<path d=\"M110,0 L105,-5.0 L110,-10\" fill=\"lightgrey\" stroke=\"lightgrey\" />\n",
       "<rect x=\"150\" y=\"-10\" width=\"50\" height=\"10\" fill=\"salmon\" stroke=\"salmon\" />\n",
       "</g>\n",
       "</svg>"
      ],
      "text/plain": [
       "<drawSvg.drawing.Drawing at 0x7f0ada3253c8>"
      ]
     },
     "execution_count": 11,
     "metadata": {},
     "output_type": "execute_result"
    }
   ],
   "source": [
    "figure = Figure()\n",
    "t1 = Track(50, 300, direction='f', label=\"Another sequence\", regions=[(50, 100, 'lightblue')])\n",
    "t2 = Track(110, 410, direction='r', label=\"Sequence 1\", regions=[(150, 200, 'salmon')])\n",
    "figure.add_track(t1)\n",
    "figure.add_track(t2)\n",
    "figure.show()"
   ]
  },
  {
   "cell_type": "code",
   "execution_count": 12,
   "metadata": {},
   "outputs": [
    {
     "data": {
      "image/svg+xml": [
       "<?xml version=\"1.0\" encoding=\"UTF-8\"?>\n",
       "<svg xmlns=\"http://www.w3.org/2000/svg\" xmlns:xlink=\"http://www.w3.org/1999/xlink\"\n",
       "     width=\"700\" height=\"100.0\" viewBox=\"0 -100 700 100\">\n",
       "<defs>\n",
       "</defs>\n",
       "<g transform=\"translate(0 0)\">\n",
       "<g transform=\"translate(0 0)\">\n",
       "<rect x=\"50\" y=\"-10\" width=\"250\" height=\"10\" fill=\"lightgrey\" stroke=\"lightgrey\" />\n",
       "<text x=\"175.0\" y=\"-20\" font-size=\"10.0\" text-anchor=\"middle\" transform=\"translate(0,5.0)\">Another sequence</text>\n",
       "<path d=\"M300,0 L305,-5.0 L300,-10\" fill=\"lightgrey\" stroke=\"lightgrey\" />\n",
       "<rect x=\"50\" y=\"-10\" width=\"50\" height=\"10\" fill=\"lightblue\" stroke=\"lightblue\" />\n",
       "</g>\n",
       "<g transform=\"translate(0 -50)\">\n",
       "<rect x=\"110\" y=\"-10\" width=\"300\" height=\"10\" fill=\"lightgrey\" stroke=\"lightgrey\" />\n",
       "<text x=\"260.0\" y=\"-20\" font-size=\"10.0\" text-anchor=\"middle\" transform=\"translate(0,5.0)\">Sequence 1</text>\n",
       "<path d=\"M110,0 L105,-5.0 L110,-10\" fill=\"lightgrey\" stroke=\"lightgrey\" />\n",
       "<rect x=\"150\" y=\"-10\" width=\"50\" height=\"10\" fill=\"salmon\" stroke=\"salmon\" />\n",
       "</g>\n",
       "<path d=\"M50,-10 L150,-50\" stroke=\"black\" />\n",
       "<path d=\"M50,0 L50,-10\" stroke=\"black\" />\n",
       "<path d=\"M150,-50 L150,-60\" stroke=\"black\" />\n",
       "<path d=\"M100,-10 L200,-50\" stroke=\"black\" />\n",
       "<path d=\"M100,0 L100,-10\" stroke=\"black\" />\n",
       "<path d=\"M200,-50 L200,-60\" stroke=\"black\" />\n",
       "</g>\n",
       "</svg>"
      ],
      "text/plain": [
       "<drawSvg.drawing.Drawing at 0x7f0ada3184e0>"
      ]
     },
     "execution_count": 12,
     "metadata": {},
     "output_type": "execute_result"
    }
   ],
   "source": [
    "f = Figure(height=100)\n",
    "f.add_alignment(Alignment(t1, t2, [(50, 150), (100, 200)]))\n",
    "f.show()"
   ]
  },
  {
   "cell_type": "code",
   "execution_count": 13,
   "metadata": {},
   "outputs": [
    {
     "data": {
      "image/svg+xml": [
       "<?xml version=\"1.0\" encoding=\"UTF-8\"?>\n",
       "<svg xmlns=\"http://www.w3.org/2000/svg\" xmlns:xlink=\"http://www.w3.org/1999/xlink\"\n",
       "     width=\"400\" height=\"400.0\" viewBox=\"-0.7 -0.7 1.4 1.4\">\n",
       "<defs>\n",
       "</defs>\n",
       "<circle cx=\"0\" cy=\"0\" r=\"0.5\" stroke-width=\"0.005\" stroke=\"lightgrey\" fill-opacity=\"0.0\" />\n",
       "<path d=\"M-0.08682408883346515,-0.492403876506104 A0.5,0.5,0,0,0,-0.0954044976882724,-0.490813591723832\" stroke-width=\"0.04\" stroke=\"orange\" fill-opacity=\"0.0\" />\n",
       "<path d=\"M-0.17101007166283436,-0.4698463103929542 A0.5,0.5,0,0,0,-0.1710100716628347,0.4698463103929541\" stroke-width=\"0.04\" stroke=\"salmon\" fill-opacity=\"0.0\" />\n",
       "<path d=\"M-0.1710100716628347,0.4698463103929541 A0.5,0.5,0,0,0,0.043577871373828944,0.4980973490458728\" stroke-width=\"0.04\" stroke=\"yellowgreen\" fill-opacity=\"0.0\" />\n",
       "<path d=\"M0.3830222215594889,0.3213938048432698 A0.5,0.5,0,0,0,0.4698463103929542,-0.17101007166283436\" stroke-width=\"0.04\" stroke=\"lightblue\" fill-opacity=\"0.0\" />\n",
       "</svg>"
      ],
      "text/plain": [
       "<drawSvg.drawing.Drawing at 0x7f0ada3180b8>"
      ]
     },
     "execution_count": 13,
     "metadata": {},
     "output_type": "execute_result"
    }
   ],
   "source": [
    "from genetracks import Plasmid, Region\n",
    "\n",
    "p = Plasmid(360, regions=[Region(100, 101, color='orange'),\n",
    "                          Region(110, 250, color='salmon'),\n",
    "                          Region(250, 275, color='yellowgreen'),\n",
    "                          Region(320, 20, color='lightblue')])\n",
    "p.show()"
   ]
  }
 ],
 "metadata": {
  "kernelspec": {
   "display_name": "Python 3",
   "language": "python",
   "name": "python3"
  },
  "language_info": {
   "codemirror_mode": {
    "name": "ipython",
    "version": 3
   },
   "file_extension": ".py",
   "mimetype": "text/x-python",
   "name": "python",
   "nbconvert_exporter": "python",
   "pygments_lexer": "ipython3",
   "version": "3.6.6"
  }
 },
 "nbformat": 4,
 "nbformat_minor": 2
}
