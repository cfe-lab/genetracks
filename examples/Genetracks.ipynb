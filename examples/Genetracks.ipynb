{
 "cells": [
  {
   "cell_type": "markdown",
   "metadata": {},
   "source": [
    "# Vectorized sequence alignment diagrams"
   ]
  },
  {
   "cell_type": "code",
   "execution_count": 1,
   "metadata": {},
   "outputs": [],
   "source": [
    "from genetracks import Figure, Track, Alignment, Multitrack, Label"
   ]
  },
  {
   "cell_type": "code",
   "execution_count": 2,
   "metadata": {
    "scrolled": false
   },
   "outputs": [
    {
     "data": {
      "image/svg+xml": [
       "<?xml version=\"1.0\" encoding=\"UTF-8\"?>\n",
       "<svg xmlns=\"http://www.w3.org/2000/svg\" xmlns:xlink=\"http://www.w3.org/1999/xlink\"\n",
       "     width=\"700\" height=\"75.0\" viewBox=\"0 -75 700 75\">\n",
       "<defs>\n",
       "</defs>\n",
       "<g transform=\"translate(0 0)\">\n",
       "<rect x=\"50\" y=\"-10\" width=\"250\" height=\"10\" fill=\"lightgrey\" />\n",
       "<path d=\"M300,0 L305,-5.0 L300,-10\" fill=\"lightgrey\" stroke=\"lightgrey\" />\n",
       "<rect x=\"50\" y=\"-10\" width=\"50\" height=\"10\" fill=\"lightblue\" stroke=\"lightblue\" />\n",
       "<text x=\"175.0\" y=\"-20\" font-size=\"10.0\" text-anchor=\"middle\" transform=\"translate(0,5.0)\">Another sequence</text>\n",
       "</g>\n",
       "<g transform=\"translate(0 -30)\">\n",
       "<rect x=\"110\" y=\"-10\" width=\"300\" height=\"10\" fill=\"lightgrey\" />\n",
       "<path d=\"M110,0 L105,-5.0 L110,-10\" fill=\"lightgrey\" stroke=\"lightgrey\" />\n",
       "<rect x=\"150\" y=\"-10\" width=\"50\" height=\"10\" fill=\"salmon\" stroke=\"salmon\" />\n",
       "<text x=\"260.0\" y=\"-20\" font-size=\"10.0\" text-anchor=\"middle\" transform=\"translate(0,5.0)\">Sequence 1</text>\n",
       "</g>\n",
       "</svg>"
      ],
      "text/plain": [
       "<drawSvg.drawing.Drawing at 0x7f53361faf98>"
      ]
     },
     "execution_count": 2,
     "metadata": {},
     "output_type": "execute_result"
    }
   ],
   "source": [
    "figure = Figure()\n",
    "t1 = Track(50, 300, direction='f', label=\"Another sequence\", regions=[(50, 100, 'lightblue')])\n",
    "t2 = Track(110, 410, direction='r', label=\"Sequence 1\", regions=[(150, 200, 'salmon')])\n",
    "figure.add_track(t1)\n",
    "figure.add_track(t2)\n",
    "figure.show()"
   ]
  },
  {
   "cell_type": "markdown",
   "metadata": {},
   "source": [
    "## Linear tracks\n",
    "\n",
    "### Multitracks\n",
    "In this example we pack multiple tracks onto the same row and join them to illustrate gaps. The child tracks inherit the parent's translations."
   ]
  },
  {
   "cell_type": "code",
   "execution_count": 3,
   "metadata": {},
   "outputs": [
    {
     "data": {
      "image/svg+xml": [
       "<?xml version=\"1.0\" encoding=\"UTF-8\"?>\n",
       "<svg xmlns=\"http://www.w3.org/2000/svg\" xmlns:xlink=\"http://www.w3.org/1999/xlink\"\n",
       "     width=\"500\" height=\"90.0\" viewBox=\"0 -90 500 90\">\n",
       "<defs>\n",
       "</defs>\n",
       "<g transform=\"translate(0 0)\">\n",
       "<path d=\"M0,-5.0 L450,-5.0\" stroke=\"lightgrey\" />\n",
       "<g transform=\"translate(0 0)\">\n",
       "<rect x=\"0\" y=\"-10\" width=\"150\" height=\"10\" fill=\"lightgrey\" />\n",
       "<path d=\"M150,0 L155,-5.0 L150,-10\" fill=\"lightgrey\" stroke=\"lightgrey\" />\n",
       "<text x=\"75.0\" y=\"-20\" font-size=\"10.0\" text-anchor=\"middle\" transform=\"translate(0,5.0)\">Read 1, forward</text>\n",
       "</g>\n",
       "<g transform=\"translate(0 0)\">\n",
       "<rect x=\"300\" y=\"-10\" width=\"150\" height=\"10\" fill=\"lightgrey\" />\n",
       "<path d=\"M300,0 L295,-5.0 L300,-10\" fill=\"lightgrey\" stroke=\"lightgrey\" />\n",
       "<text x=\"375.0\" y=\"-20\" font-size=\"10.0\" text-anchor=\"middle\" transform=\"translate(0,5.0)\">Read 1, reverse</text>\n",
       "</g>\n",
       "</g>\n",
       "<g transform=\"translate(0 -30)\">\n",
       "<path d=\"M30,-5.0 L475,-5.0\" stroke=\"lightgrey\" />\n",
       "<g transform=\"translate(0 0)\">\n",
       "<rect x=\"30\" y=\"-10\" width=\"150\" height=\"10\" fill=\"lightgrey\" />\n",
       "<path d=\"M180,0 L185,-5.0 L180,-10\" fill=\"lightgrey\" stroke=\"lightgrey\" />\n",
       "<text x=\"105.0\" y=\"-20\" font-size=\"10.0\" text-anchor=\"middle\" transform=\"translate(0,5.0)\">Read 2, forward</text>\n",
       "</g>\n",
       "<g transform=\"translate(0 0)\">\n",
       "<rect x=\"325\" y=\"-10\" width=\"150\" height=\"10\" fill=\"lightgrey\" />\n",
       "<path d=\"M325,0 L320,-5.0 L325,-10\" fill=\"lightgrey\" stroke=\"lightgrey\" />\n",
       "<text x=\"400.0\" y=\"-20\" font-size=\"10.0\" text-anchor=\"middle\" transform=\"translate(0,5.0)\">Read 2, reverse</text>\n",
       "</g>\n",
       "</g>\n",
       "<g transform=\"translate(0 -60)\">\n",
       "<path d=\"M60,-5.0 L500,-5.0\" stroke=\"lightgrey\" />\n",
       "<g transform=\"translate(0 0)\">\n",
       "<rect x=\"60\" y=\"-10\" width=\"150\" height=\"10\" fill=\"lightgrey\" />\n",
       "<path d=\"M210,0 L215,-5.0 L210,-10\" fill=\"lightgrey\" stroke=\"lightgrey\" />\n",
       "<text x=\"135.0\" y=\"-20\" font-size=\"10.0\" text-anchor=\"middle\" transform=\"translate(0,5.0)\">Read 3, forward</text>\n",
       "</g>\n",
       "<g transform=\"translate(0 0)\">\n",
       "<rect x=\"350\" y=\"-10\" width=\"150\" height=\"10\" fill=\"lightgrey\" />\n",
       "<path d=\"M350,0 L345,-5.0 L350,-10\" fill=\"lightgrey\" stroke=\"lightgrey\" />\n",
       "<text x=\"425.0\" y=\"-20\" font-size=\"10.0\" text-anchor=\"middle\" transform=\"translate(0,5.0)\">Read 3, reverse</text>\n",
       "</g>\n",
       "</g>\n",
       "</svg>"
      ],
      "text/plain": [
       "<drawSvg.drawing.Drawing at 0x7f5336206c50>"
      ]
     },
     "execution_count": 3,
     "metadata": {},
     "output_type": "execute_result"
    }
   ],
   "source": [
    "figure = Figure(height=90, size=500)\n",
    "for i in range(0,3):\n",
    "    o = i * 30\n",
    "    e = i * 25\n",
    "    figure.add_track(Multitrack([\n",
    "        Track(o, 150 + o, direction='f', label='Read {}, forward'.format(i + 1)),\n",
    "        Track(300 + e, 450 + e, direction='r', label='Read {}, reverse'.format(i + 1))], join=True))\n",
    "figure.show()"
   ]
  },
  {
   "cell_type": "markdown",
   "metadata": {},
   "source": [
    "### Directionality\n",
    "Tracks can be rendered with arrows indicating strand direction."
   ]
  },
  {
   "cell_type": "code",
   "execution_count": 4,
   "metadata": {},
   "outputs": [
    {
     "data": {
      "image/svg+xml": [
       "<?xml version=\"1.0\" encoding=\"UTF-8\"?>\n",
       "<svg xmlns=\"http://www.w3.org/2000/svg\" xmlns:xlink=\"http://www.w3.org/1999/xlink\"\n",
       "     width=\"500\" height=\"90.0\" viewBox=\"0 -90 500 90\">\n",
       "<defs>\n",
       "</defs>\n",
       "<g transform=\"translate(0 0)\">\n",
       "<path d=\"M0,-5.0 L350,-5.0\" stroke=\"lightgrey\" />\n",
       "<g transform=\"translate(0 0)\">\n",
       "<rect x=\"0\" y=\"-10\" width=\"150\" height=\"10\" fill=\"lightgrey\" />\n",
       "<path d=\"M150,0 L155,-5.0 L150,-10\" fill=\"lightgrey\" stroke=\"lightgrey\" />\n",
       "<text x=\"75.0\" y=\"-20\" font-size=\"10.0\" text-anchor=\"middle\" transform=\"translate(0,5.0)\">Forward read</text>\n",
       "</g>\n",
       "<g transform=\"translate(0 0)\">\n",
       "<rect x=\"200\" y=\"-10\" width=\"150\" height=\"10\" fill=\"lightgrey\" />\n",
       "<path d=\"M200,0 L195,-5.0 L200,-10\" fill=\"lightgrey\" stroke=\"lightgrey\" />\n",
       "<text x=\"275.0\" y=\"-20\" font-size=\"10.0\" text-anchor=\"middle\" transform=\"translate(0,5.0)\">Reverse read</text>\n",
       "</g>\n",
       "</g>\n",
       "<g transform=\"translate(0 -30)\">\n",
       "<rect x=\"50\" y=\"-10\" width=\"200\" height=\"10\" fill=\"salmon\" />\n",
       "<path d=\"M250,0 L255,-5.0 L250,-10\" fill=\"salmon\" stroke=\"salmon\" />\n",
       "<path d=\"M50,0 L45,-5.0 L50,-10\" fill=\"salmon\" stroke=\"salmon\" />\n",
       "<rect x=\"75\" y=\"-10\" width=\"150\" height=\"10\" fill=\"lightgrey\" stroke=\"lightgrey\" />\n",
       "<text x=\"150.0\" y=\"-20\" font-size=\"10.0\" text-anchor=\"middle\" transform=\"translate(0,5.0)\">Read-through</text>\n",
       "</g>\n",
       "<g transform=\"translate(0 -60)\">\n",
       "<rect x=\"50\" y=\"-10\" width=\"250\" height=\"10\" fill=\"lightgrey\" />\n",
       "<text x=\"175.0\" y=\"-20\" font-size=\"10.0\" text-anchor=\"middle\" transform=\"translate(0,5.0)\">Reads overlap</text>\n",
       "</g>\n",
       "</svg>"
      ],
      "text/plain": [
       "<drawSvg.drawing.Drawing at 0x7f533621e320>"
      ]
     },
     "execution_count": 4,
     "metadata": {},
     "output_type": "execute_result"
    }
   ],
   "source": [
    "figure = Figure(height=90, size=500)\n",
    "figure.add_track(Multitrack([\n",
    "        Track(0, 150, direction='f', label='Forward read'),\n",
    "        Track(200, 350, direction='r', label='Reverse read')], join=True))\n",
    "figure.add_track(Track(50, 250, direction='fr', label='Read-through', color='salmon', regions=[(75, 225, 'lightgrey')]))\n",
    "figure.add_track(Track(50, 300, label='Reads overlap'))\n",
    "figure.show()"
   ]
  },
  {
   "cell_type": "markdown",
   "metadata": {},
   "source": [
    "The `Alignment` class allows us to illustrate the relationship between regions of two different tracks:"
   ]
  },
  {
   "cell_type": "markdown",
   "metadata": {},
   "source": [
    "### Alignment\n",
    "Regions beetween two tracts can be illustrated with an `Alignment`."
   ]
  },
  {
   "cell_type": "code",
   "execution_count": 5,
   "metadata": {},
   "outputs": [
    {
     "data": {
      "image/svg+xml": [
       "<?xml version=\"1.0\" encoding=\"UTF-8\"?>\n",
       "<svg xmlns=\"http://www.w3.org/2000/svg\" xmlns:xlink=\"http://www.w3.org/1999/xlink\"\n",
       "     width=\"700\" height=\"75.0\" viewBox=\"0 -75 700 75\">\n",
       "<defs>\n",
       "</defs>\n",
       "<g transform=\"translate(0 0)\">\n",
       "<g transform=\"translate(0 0)\">\n",
       "<rect x=\"50\" y=\"-10\" width=\"250\" height=\"10\" fill=\"lightgrey\" />\n",
       "<path d=\"M50,0 L45,-5.0 L50,-10\" fill=\"lightgrey\" stroke=\"lightgrey\" />\n",
       "<rect x=\"110\" y=\"-10\" width=\"190\" height=\"10\" fill=\"lightblue\" stroke=\"lightblue\" />\n",
       "</g>\n",
       "<g transform=\"translate(0 -50)\">\n",
       "<rect x=\"110\" y=\"-10\" width=\"250\" height=\"10\" fill=\"lightgrey\" />\n",
       "<path d=\"M360,0 L365,-5.0 L360,-10\" fill=\"lightgrey\" stroke=\"lightgrey\" />\n",
       "<rect x=\"110\" y=\"-10\" width=\"190\" height=\"10\" fill=\"salmon\" stroke=\"salmon\" />\n",
       "</g>\n",
       "<path d=\"M110,-10 L300,-50\" stroke=\"black\" />\n",
       "<path d=\"M110,0 L110,-10\" stroke=\"black\" />\n",
       "<path d=\"M300,-50 L300,-60\" stroke=\"black\" />\n",
       "<path d=\"M300,-10 L110,-50\" stroke=\"black\" />\n",
       "<path d=\"M300,0 L300,-10\" stroke=\"black\" />\n",
       "<path d=\"M110,-50 L110,-60\" stroke=\"black\" />\n",
       "</g>\n",
       "</svg>"
      ],
      "text/plain": [
       "<drawSvg.drawing.Drawing at 0x7f5336206668>"
      ]
     },
     "execution_count": 5,
     "metadata": {},
     "output_type": "execute_result"
    }
   ],
   "source": [
    "figure = Figure(width=400)\n",
    "t1 = Track(50, 300, direction='r', regions=[(110, 300, 'lightblue')])\n",
    "t2 = Track(110, 360, direction='f', regions=[(110, 300, 'salmon')])\n",
    "figure.add_alignment(Alignment(t1, t2, [(110, 300), (300, 110)]))\n",
    "figure.show()"
   ]
  },
  {
   "cell_type": "markdown",
   "metadata": {},
   "source": [
    "### Label Objects\n",
    "Label offsets and text size can be adjusted to make informative tracks."
   ]
  },
  {
   "cell_type": "code",
   "execution_count": 6,
   "metadata": {},
   "outputs": [
    {
     "data": {
      "image/svg+xml": [
       "<?xml version=\"1.0\" encoding=\"UTF-8\"?>\n",
       "<svg xmlns=\"http://www.w3.org/2000/svg\" xmlns:xlink=\"http://www.w3.org/1999/xlink\"\n",
       "     width=\"970\" height=\"120.0\" viewBox=\"0 -120 970 120\">\n",
       "<defs>\n",
       "</defs>\n",
       "<g transform=\"translate(0 0)\">\n",
       "<g transform=\"translate(0 0)\">\n",
       "<rect x=\"210\" y=\"-10\" width=\"300\" height=\"10\" fill=\"orange\" />\n",
       "<text x=\"360.0\" y=\"-7\" font-size=\"10.0\" text-anchor=\"middle\" transform=\"translate(0,5.0)\">pol</text>\n",
       "</g>\n",
       "<g transform=\"translate(0 0)\">\n",
       "<rect x=\"550\" y=\"-10\" width=\"40\" height=\"10\" fill=\"turquoise\" />\n",
       "<text x=\"570.0\" y=\"-7\" font-size=\"10.0\" text-anchor=\"middle\" transform=\"translate(0,5.0)\">vpr</text>\n",
       "</g>\n",
       "<g transform=\"translate(0 0)\">\n",
       "<rect x=\"600\" y=\"-10\" width=\"5\" height=\"10\" fill=\"yellowgreen\" />\n",
       "<text x=\"602.5\" y=\"-7\" font-size=\"10.0\" text-anchor=\"middle\" transform=\"translate(0,5.0)\">rev</text>\n",
       "</g>\n",
       "<g transform=\"translate(0 0)\">\n",
       "<rect x=\"630\" y=\"-10\" width=\"255\" height=\"10\" fill=\"salmon\" />\n",
       "<text x=\"757.5\" y=\"-7\" font-size=\"10.0\" text-anchor=\"middle\" transform=\"translate(0,5.0)\">env</text>\n",
       "</g>\n",
       "</g>\n",
       "<g transform=\"translate(0 -15)\">\n",
       "<g transform=\"translate(0 0)\">\n",
       "<rect x=\"580\" y=\"-10\" width=\"20\" height=\"10\" fill=\"plum\" />\n",
       "<text x=\"590.0\" y=\"-7\" font-size=\"10.0\" text-anchor=\"middle\" transform=\"translate(0,5.0)\">tat</text>\n",
       "</g>\n",
       "<g transform=\"translate(0 0)\">\n",
       "<rect x=\"605\" y=\"-10\" width=\"20\" height=\"10\" fill=\"red\" />\n",
       "<text x=\"615.0\" y=\"-7\" font-size=\"10.0\" text-anchor=\"middle\" transform=\"translate(0,5.0)\">vpu</text>\n",
       "</g>\n",
       "<g transform=\"translate(0 0)\">\n",
       "<rect x=\"850\" y=\"-10\" width=\"25\" height=\"10\" fill=\"yellowgreen\" />\n",
       "<text x=\"862.5\" y=\"-7\" font-size=\"10.0\" text-anchor=\"middle\" transform=\"translate(0,5.0)\">rev</text>\n",
       "</g>\n",
       "<g transform=\"translate(0 0)\">\n",
       "<rect x=\"910\" y=\"-10\" width=\"60\" height=\"10\" fill=\"darkgrey\" />\n",
       "<text x=\"940.0\" y=\"-7\" font-size=\"10.0\" text-anchor=\"middle\" transform=\"translate(0,5.0)\">3' LTR</text>\n",
       "</g>\n",
       "</g>\n",
       "<g transform=\"translate(0 -30)\">\n",
       "<g transform=\"translate(0 0)\">\n",
       "<rect x=\"0\" y=\"-10\" width=\"80\" height=\"10\" fill=\"darkgrey\" />\n",
       "<text x=\"40.0\" y=\"-7\" font-size=\"10.0\" text-anchor=\"middle\" transform=\"translate(0,5.0)\">5' UTR</text>\n",
       "</g>\n",
       "<g transform=\"translate(0 0)\">\n",
       "<rect x=\"90\" y=\"-10\" width=\"130\" height=\"10\" fill=\"lightblue\" />\n",
       "<text x=\"155.0\" y=\"-7\" font-size=\"10.0\" text-anchor=\"middle\" transform=\"translate(0,5.0)\">gag</text>\n",
       "</g>\n",
       "<g transform=\"translate(0 0)\">\n",
       "<rect x=\"500\" y=\"-10\" width=\"50\" height=\"10\" fill=\"steelblue\" />\n",
       "<text x=\"525.0\" y=\"-7\" font-size=\"10.0\" text-anchor=\"middle\" transform=\"translate(0,5.0)\">vif</text>\n",
       "</g>\n",
       "<g transform=\"translate(0 0)\">\n",
       "<rect x=\"850\" y=\"-10\" width=\"10\" height=\"10\" fill=\"plum\" />\n",
       "<text x=\"855.0\" y=\"-7\" font-size=\"10.0\" text-anchor=\"middle\" transform=\"translate(0,5.0)\">tat</text>\n",
       "</g>\n",
       "<g transform=\"translate(0 0)\">\n",
       "<rect x=\"890\" y=\"-10\" width=\"60\" height=\"10\" fill=\"mediumaquamarine\" />\n",
       "<text x=\"920.0\" y=\"-7\" font-size=\"10.0\" text-anchor=\"middle\" transform=\"translate(0,5.0)\">nef</text>\n",
       "</g>\n",
       "</g>\n",
       "</svg>"
      ],
      "text/plain": [
       "<drawSvg.drawing.Drawing at 0x7f53361b3080>"
      ]
     },
     "execution_count": 6,
     "metadata": {},
     "output_type": "execute_result"
    }
   ],
   "source": [
    "f = Figure(size=970, height=120)\n",
    "\n",
    "f.add_track(Multitrack([\n",
    "    Track(210, 510, label=Label(\"pol\", offset=7), color=\"orange\"),\n",
    "    Track(550, 590, label=Label(\"vpr\", offset=7), color=\"turquoise\"),\n",
    "    Track(600, 605, label=Label(\"rev\", offset=7), color='yellowgreen'),\n",
    "    Track(630, 885, label=Label(\"env\", offset=7), color='salmon'),\n",
    "], ), gap=15)\n",
    "\n",
    "\n",
    "f.add_track(Multitrack([\n",
    "    Track(580, 600, label=Label(\"tat\", offset=7), color=\"plum\"),\n",
    "    Track(605, 625, label=Label(\"vpu\", offset=7), color=\"red\"),\n",
    "    Track(850, 875, label=Label(\"rev\", offset=7), color='yellowgreen'),\n",
    "    Track(910, 970, label=Label(\"3' LTR\", offset=7), color='darkgrey'),\n",
    "]), gap =15)\n",
    "\n",
    "\n",
    "f.add_track(Multitrack([\n",
    "    Track(0, 80, label=Label(\"5' UTR\", offset=7), color=\"darkgrey\"),\n",
    "    Track(90, 220, label=Label(\"gag\", offset=7), color=\"lightblue\"),\n",
    "    Track(500, 550, label=Label(\"vif\", offset=7), color='steelblue'),\n",
    "    Track(850, 860, label=Label(\"tat\", offset=7), color='plum'),\n",
    "    Track(890, 950, label=Label(\"nef\", offset=7), color='mediumaquamarine'),\n",
    "]), gap =15)\n",
    "f.show()"
   ]
  },
  {
   "cell_type": "markdown",
   "metadata": {},
   "source": [
    "## Circular genomes\n",
    "There is experimental support for circular genomes."
   ]
  },
  {
   "cell_type": "code",
   "execution_count": 7,
   "metadata": {
    "scrolled": false
   },
   "outputs": [
    {
     "data": {
      "image/svg+xml": [
       "<?xml version=\"1.0\" encoding=\"UTF-8\"?>\n",
       "<svg xmlns=\"http://www.w3.org/2000/svg\" xmlns:xlink=\"http://www.w3.org/1999/xlink\"\n",
       "     width=\"400\" height=\"400.0\" viewBox=\"-0.7 -0.7 1.4 1.4\">\n",
       "<defs>\n",
       "</defs>\n",
       "<circle cx=\"0\" cy=\"0\" r=\"0.5\" stroke-width=\"0.005\" stroke=\"lightgrey\" fill-opacity=\"0.0\" />\n",
       "<path d=\"M-0.08682408883346515,-0.492403876506104 A0.5,0.5,0,0,0,-0.0954044976882724,-0.490813591723832\" stroke-width=\"0.04\" stroke=\"orange\" fill-opacity=\"0.0\" />\n",
       "<path d=\"M-0.17101007166283436,-0.4698463103929542 A0.5,0.5,0,0,0,0.08682408883346499,0.49240387650610407\" stroke-width=\"0.04\" stroke=\"salmon\" fill-opacity=\"0.0\" />\n",
       "<path d=\"M-0.32139380484326974,0.38302222155948895 A0.5,0.5,0,0,0,0.043577871373828944,0.4980973490458728\" stroke-width=\"0.04\" stroke=\"firebrick\" fill-opacity=\"0.0\" />\n",
       "<path d=\"M0.3830222215594889,0.3213938048432698 A0.5,0.5,0,0,0,0.4698463103929542,-0.17101007166283436\" stroke-width=\"0.04\" stroke=\"lightblue\" fill-opacity=\"0.0\" />\n",
       "<path d=\"M0.4698463103929542,-0.17101007166283436 A0.5,0.5,0,0,0,0.3213938048432697,-0.383022221559489\" stroke-width=\"0.04\" stroke=\"slateblue\" fill-opacity=\"0.0\" />\n",
       "</svg>"
      ],
      "text/plain": [
       "<drawSvg.drawing.Drawing at 0x7f53361fa898>"
      ]
     },
     "execution_count": 7,
     "metadata": {},
     "output_type": "execute_result"
    }
   ],
   "source": [
    "from genetracks import Plasmid, Region\n",
    "\n",
    "p = Plasmid(360, regions=[Region(100, 101, color='orange'),\n",
    "                          Region(110, 280, color='salmon'),\n",
    "                          Region(230, 275, color='firebrick'),\n",
    "                          Region(320, 20, color='lightblue'),\n",
    "                          Region(20, 50, color='slateblue')])\n",
    "p.show()"
   ]
  }
 ],
 "metadata": {
  "kernelspec": {
   "display_name": "Python 3",
   "language": "python",
   "name": "python3"
  },
  "language_info": {
   "codemirror_mode": {
    "name": "ipython",
    "version": 3
   },
   "file_extension": ".py",
   "mimetype": "text/x-python",
   "name": "python",
   "nbconvert_exporter": "python",
   "pygments_lexer": "ipython3",
   "version": "3.6.6"
  }
 },
 "nbformat": 4,
 "nbformat_minor": 2
}
