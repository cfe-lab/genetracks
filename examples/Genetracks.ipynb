{
 "cells": [
  {
   "cell_type": "code",
   "execution_count": 6,
   "metadata": {},
   "outputs": [],
   "source": [
    "from genetracks import Figure, Track, Alignment, Multitrack"
   ]
  },
  {
   "cell_type": "markdown",
   "metadata": {},
   "source": [
    "# Vectorized sequence alignment diagrams"
   ]
  },
  {
   "cell_type": "code",
   "execution_count": 2,
   "metadata": {
    "scrolled": false
   },
   "outputs": [
    {
     "data": {
      "image/svg+xml": [
       "<?xml version=\"1.0\" encoding=\"UTF-8\"?>\n",
       "<svg xmlns=\"http://www.w3.org/2000/svg\" xmlns:xlink=\"http://www.w3.org/1999/xlink\"\n",
       "     width=\"700\" height=\"75.0\" viewBox=\"0 -75 700 75\">\n",
       "<defs>\n",
       "</defs>\n",
       "<g transform=\"translate(0 0)\">\n",
       "<rect x=\"50\" y=\"-10\" width=\"250\" height=\"10\" fill=\"lightgrey\" stroke=\"lightgrey\" />\n",
       "<text x=\"175.0\" y=\"-20\" font-size=\"10.0\" text-anchor=\"middle\" transform=\"translate(0,5.0)\">Another sequence</text>\n",
       "<path d=\"M300,0 L305,-5.0 L300,-10\" fill=\"lightgrey\" stroke=\"lightgrey\" />\n",
       "<rect x=\"50\" y=\"-10\" width=\"50\" height=\"10\" fill=\"lightblue\" stroke=\"lightblue\" />\n",
       "</g>\n",
       "<g transform=\"translate(0 -30)\">\n",
       "<rect x=\"110\" y=\"-10\" width=\"300\" height=\"10\" fill=\"lightgrey\" stroke=\"lightgrey\" />\n",
       "<text x=\"260.0\" y=\"-20\" font-size=\"10.0\" text-anchor=\"middle\" transform=\"translate(0,5.0)\">Sequence 1</text>\n",
       "<path d=\"M110,0 L105,-5.0 L110,-10\" fill=\"lightgrey\" stroke=\"lightgrey\" />\n",
       "<rect x=\"150\" y=\"-10\" width=\"50\" height=\"10\" fill=\"salmon\" stroke=\"salmon\" />\n",
       "</g>\n",
       "</svg>"
      ],
      "text/plain": [
       "<drawSvg.drawing.Drawing at 0x7f2ed6a67080>"
      ]
     },
     "execution_count": 2,
     "metadata": {},
     "output_type": "execute_result"
    }
   ],
   "source": [
    "figure = Figure()\n",
    "t1 = Track(50, 300, direction='f', label=\"Another sequence\", regions=[(50, 100, 'lightblue')])\n",
    "t2 = Track(110, 410, direction='r', label=\"Sequence 1\", regions=[(150, 200, 'salmon')])\n",
    "figure.add_track(t1)\n",
    "figure.add_track(t2)\n",
    "figure.show()"
   ]
  },
  {
   "cell_type": "markdown",
   "metadata": {},
   "source": [
    "In this example we pack multiple tracks onto the same row and join them to illustrate gaps:"
   ]
  },
  {
   "cell_type": "code",
   "execution_count": 7,
   "metadata": {},
   "outputs": [
    {
     "data": {
      "image/svg+xml": [
       "<?xml version=\"1.0\" encoding=\"UTF-8\"?>\n",
       "<svg xmlns=\"http://www.w3.org/2000/svg\" xmlns:xlink=\"http://www.w3.org/1999/xlink\"\n",
       "     width=\"500\" height=\"90.0\" viewBox=\"0 -90 500 90\">\n",
       "<defs>\n",
       "</defs>\n",
       "<g transform=\"translate(0 0)\">\n",
       "<path d=\"M0,-5.0 L450,-5.0\" stroke=\"lightgrey\" />\n",
       "<g transform=\"translate(0 0)\">\n",
       "<rect x=\"0\" y=\"-10\" width=\"150\" height=\"10\" fill=\"lightgrey\" stroke=\"lightgrey\" />\n",
       "<text x=\"75.0\" y=\"-20\" font-size=\"10.0\" text-anchor=\"middle\" transform=\"translate(0,5.0)\">Read 1, forward</text>\n",
       "<path d=\"M150,0 L155,-5.0 L150,-10\" fill=\"lightgrey\" stroke=\"lightgrey\" />\n",
       "</g>\n",
       "<g transform=\"translate(0 0)\">\n",
       "<rect x=\"300\" y=\"-10\" width=\"150\" height=\"10\" fill=\"lightgrey\" stroke=\"lightgrey\" />\n",
       "<text x=\"375.0\" y=\"-20\" font-size=\"10.0\" text-anchor=\"middle\" transform=\"translate(0,5.0)\">Read 1, reverse</text>\n",
       "<path d=\"M300,0 L295,-5.0 L300,-10\" fill=\"lightgrey\" stroke=\"lightgrey\" />\n",
       "</g>\n",
       "</g>\n",
       "<g transform=\"translate(0 -30)\">\n",
       "<path d=\"M30,-5.0 L475,-5.0\" stroke=\"lightgrey\" />\n",
       "<g transform=\"translate(0 0)\">\n",
       "<rect x=\"30\" y=\"-10\" width=\"150\" height=\"10\" fill=\"lightgrey\" stroke=\"lightgrey\" />\n",
       "<text x=\"105.0\" y=\"-20\" font-size=\"10.0\" text-anchor=\"middle\" transform=\"translate(0,5.0)\">Read 2, forward</text>\n",
       "<path d=\"M180,0 L185,-5.0 L180,-10\" fill=\"lightgrey\" stroke=\"lightgrey\" />\n",
       "</g>\n",
       "<g transform=\"translate(0 0)\">\n",
       "<rect x=\"325\" y=\"-10\" width=\"150\" height=\"10\" fill=\"lightgrey\" stroke=\"lightgrey\" />\n",
       "<text x=\"400.0\" y=\"-20\" font-size=\"10.0\" text-anchor=\"middle\" transform=\"translate(0,5.0)\">Read 2, reverse</text>\n",
       "<path d=\"M325,0 L320,-5.0 L325,-10\" fill=\"lightgrey\" stroke=\"lightgrey\" />\n",
       "</g>\n",
       "</g>\n",
       "<g transform=\"translate(0 -60)\">\n",
       "<path d=\"M60,-5.0 L500,-5.0\" stroke=\"lightgrey\" />\n",
       "<g transform=\"translate(0 0)\">\n",
       "<rect x=\"60\" y=\"-10\" width=\"150\" height=\"10\" fill=\"lightgrey\" stroke=\"lightgrey\" />\n",
       "<text x=\"135.0\" y=\"-20\" font-size=\"10.0\" text-anchor=\"middle\" transform=\"translate(0,5.0)\">Read 3, forward</text>\n",
       "<path d=\"M210,0 L215,-5.0 L210,-10\" fill=\"lightgrey\" stroke=\"lightgrey\" />\n",
       "</g>\n",
       "<g transform=\"translate(0 0)\">\n",
       "<rect x=\"350\" y=\"-10\" width=\"150\" height=\"10\" fill=\"lightgrey\" stroke=\"lightgrey\" />\n",
       "<text x=\"425.0\" y=\"-20\" font-size=\"10.0\" text-anchor=\"middle\" transform=\"translate(0,5.0)\">Read 3, reverse</text>\n",
       "<path d=\"M350,0 L345,-5.0 L350,-10\" fill=\"lightgrey\" stroke=\"lightgrey\" />\n",
       "</g>\n",
       "</g>\n",
       "</svg>"
      ],
      "text/plain": [
       "<drawSvg.drawing.Drawing at 0x7f2ed6a77b00>"
      ]
     },
     "execution_count": 7,
     "metadata": {},
     "output_type": "execute_result"
    }
   ],
   "source": [
    "figure = Figure(height=90, size=500)\n",
    "for i in range(0,3):\n",
    "    o = i * 30\n",
    "    e = i * 25\n",
    "    figure.add_track(Multitrack([\n",
    "        Track(o, 150 + o, direction='f', label='Read {}, forward'.format(i + 1)),\n",
    "        Track(300 + e, 450 + e, direction='r', label='Read {}, reverse'.format(i + 1))], join=True))\n",
    "figure.show()"
   ]
  },
  {
   "cell_type": "markdown",
   "metadata": {},
   "source": [
    "The `Alignment` class allows us to illustrate the relationship between regions of two different tracks:"
   ]
  },
  {
   "cell_type": "code",
   "execution_count": 4,
   "metadata": {},
   "outputs": [
    {
     "data": {
      "image/svg+xml": [
       "<?xml version=\"1.0\" encoding=\"UTF-8\"?>\n",
       "<svg xmlns=\"http://www.w3.org/2000/svg\" xmlns:xlink=\"http://www.w3.org/1999/xlink\"\n",
       "     width=\"700\" height=\"75.0\" viewBox=\"0 -75 700 75\">\n",
       "<defs>\n",
       "</defs>\n",
       "<g transform=\"translate(0 0)\">\n",
       "<g transform=\"translate(0 0)\">\n",
       "<rect x=\"50\" y=\"-10\" width=\"250\" height=\"10\" fill=\"lightgrey\" stroke=\"lightgrey\" />\n",
       "<path d=\"M50,0 L45,-5.0 L50,-10\" fill=\"lightgrey\" stroke=\"lightgrey\" />\n",
       "<rect x=\"110\" y=\"-10\" width=\"190\" height=\"10\" fill=\"lightblue\" stroke=\"lightblue\" />\n",
       "</g>\n",
       "<g transform=\"translate(0 -50)\">\n",
       "<rect x=\"110\" y=\"-10\" width=\"250\" height=\"10\" fill=\"lightgrey\" stroke=\"lightgrey\" />\n",
       "<path d=\"M360,0 L365,-5.0 L360,-10\" fill=\"lightgrey\" stroke=\"lightgrey\" />\n",
       "<rect x=\"110\" y=\"-10\" width=\"190\" height=\"10\" fill=\"salmon\" stroke=\"salmon\" />\n",
       "</g>\n",
       "<path d=\"M110,-10 L300,-50\" stroke=\"black\" />\n",
       "<path d=\"M110,0 L110,-10\" stroke=\"black\" />\n",
       "<path d=\"M300,-50 L300,-60\" stroke=\"black\" />\n",
       "<path d=\"M300,-10 L110,-50\" stroke=\"black\" />\n",
       "<path d=\"M300,0 L300,-10\" stroke=\"black\" />\n",
       "<path d=\"M110,-50 L110,-60\" stroke=\"black\" />\n",
       "</g>\n",
       "</svg>"
      ],
      "text/plain": [
       "<drawSvg.drawing.Drawing at 0x7f2ed6a679b0>"
      ]
     },
     "execution_count": 4,
     "metadata": {},
     "output_type": "execute_result"
    }
   ],
   "source": [
    "figure = Figure(width=400)\n",
    "t1 = Track(50, 300, direction='r', regions=[(110, 300, 'lightblue')])\n",
    "t2 = Track(110, 360, direction='f', regions=[(110, 300, 'salmon')])\n",
    "figure.add_alignment(Alignment(t1, t2, [(110, 300), (300, 110)]))\n",
    "figure.show()"
   ]
  },
  {
   "cell_type": "markdown",
   "metadata": {},
   "source": []
  },
  {
   "cell_type": "code",
   "execution_count": 5,
   "metadata": {},
   "outputs": [
    {
     "data": {
      "image/svg+xml": [
       "<?xml version=\"1.0\" encoding=\"UTF-8\"?>\n",
       "<svg xmlns=\"http://www.w3.org/2000/svg\" xmlns:xlink=\"http://www.w3.org/1999/xlink\"\n",
       "     width=\"400\" height=\"400.0\" viewBox=\"-0.7 -0.7 1.4 1.4\">\n",
       "<defs>\n",
       "</defs>\n",
       "<circle cx=\"0\" cy=\"0\" r=\"0.5\" stroke-width=\"0.005\" stroke=\"lightgrey\" fill-opacity=\"0.0\" />\n",
       "<path d=\"M-0.08682408883346515,-0.492403876506104 A0.5,0.5,0,0,0,-0.0954044976882724,-0.490813591723832\" stroke-width=\"0.04\" stroke=\"orange\" fill-opacity=\"0.0\" />\n",
       "<path d=\"M-0.17101007166283436,-0.4698463103929542 A0.5,0.5,0,0,0,-0.1710100716628347,0.4698463103929541\" stroke-width=\"0.04\" stroke=\"salmon\" fill-opacity=\"0.0\" />\n",
       "<path d=\"M-0.1710100716628347,0.4698463103929541 A0.5,0.5,0,0,0,0.043577871373828944,0.4980973490458728\" stroke-width=\"0.04\" stroke=\"yellowgreen\" fill-opacity=\"0.0\" />\n",
       "<path d=\"M0.3830222215594889,0.3213938048432698 A0.5,0.5,0,0,0,0.4698463103929542,-0.17101007166283436\" stroke-width=\"0.04\" stroke=\"lightblue\" fill-opacity=\"0.0\" />\n",
       "</svg>"
      ],
      "text/plain": [
       "<drawSvg.drawing.Drawing at 0x7f2ed6a595c0>"
      ]
     },
     "execution_count": 5,
     "metadata": {},
     "output_type": "execute_result"
    }
   ],
   "source": [
    "from genetracks import Plasmid, Region\n",
    "\n",
    "p = Plasmid(360, regions=[Region(100, 101, color='orange'),\n",
    "                          Region(110, 250, color='salmon'),\n",
    "                          Region(250, 275, color='yellowgreen'),\n",
    "                          Region(320, 20, color='lightblue')])\n",
    "p.show()"
   ]
  }
 ],
 "metadata": {
  "kernelspec": {
   "display_name": "Python 3",
   "language": "python",
   "name": "python3"
  },
  "language_info": {
   "codemirror_mode": {
    "name": "ipython",
    "version": 3
   },
   "file_extension": ".py",
   "mimetype": "text/x-python",
   "name": "python",
   "nbconvert_exporter": "python",
   "pygments_lexer": "ipython3",
   "version": "3.6.6"
  }
 },
 "nbformat": 4,
 "nbformat_minor": 2
}
